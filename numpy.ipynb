{
 "cells": [
  {
   "cell_type": "markdown",
   "id": "46b74ef4-c6c6-49f1-b759-9b9e018615de",
   "metadata": {},
   "source": [
    "Array"
   ]
  },
  {
   "cell_type": "code",
   "execution_count": 3,
   "id": "655aaf44-c10f-4fa2-8f33-8a58cf90827b",
   "metadata": {},
   "outputs": [
    {
     "name": "stdout",
     "output_type": "stream",
     "text": [
      "[1 2 3 4]\n",
      "1\n"
     ]
    }
   ],
   "source": [
    "import numpy as np\n",
    "\n",
    "x = [1,2,3,4] \n",
    "\n",
    "y = np.array(x) # even if we put the whole array instead of storing it into a variable it still works\n",
    "\n",
    "print(y)\n",
    "#gives the dimension of the array\n",
    "print(y.ndim)"
   ]
  },
  {
   "cell_type": "code",
   "execution_count": 4,
   "id": "694ea020-7407-4d56-932f-e602fca7970e",
   "metadata": {},
   "outputs": [
    {
     "name": "stdin",
     "output_type": "stream",
     "text": [
      "Enter:  12\n",
      "Enter:  13\n",
      "Enter:  14\n",
      "Enter:  15\n"
     ]
    },
    {
     "name": "stdout",
     "output_type": "stream",
     "text": [
      "['12' '13' '14' '15']\n"
     ]
    }
   ],
   "source": [
    "l = []\n",
    "\n",
    "for i in range(1,5):\n",
    "    int_1 = input(\"Enter: \")\n",
    "    l.append(int_1)\n",
    "\n",
    "print(np.array(l))"
   ]
  },
  {
   "cell_type": "code",
   "execution_count": 7,
   "id": "2a1129e9-0cca-4965-b17a-22a136097815",
   "metadata": {},
   "outputs": [
    {
     "name": "stdout",
     "output_type": "stream",
     "text": [
      "[[1 2 3 4]\n",
      " [1 2 3 4]]\n",
      "2\n"
     ]
    }
   ],
   "source": [
    "arr = np.array([[1,2,3,4],[1,2,3,4]])\n",
    "print(arr)\n",
    "print(arr.ndim)"
   ]
  },
  {
   "cell_type": "code",
   "execution_count": 8,
   "id": "c09fd599-4340-4e8f-bfb9-2c4893e95a2a",
   "metadata": {},
   "outputs": [
    {
     "name": "stdout",
     "output_type": "stream",
     "text": [
      "[[[1 2 3 4]\n",
      "  [1 2 3 4]\n",
      "  [1 2 3 4]]]\n",
      "3\n"
     ]
    }
   ],
   "source": [
    "arr = np.array([[[1,2,3,4],[1,2,3,4],[1,2,3,4]]])\n",
    "print(arr)\n",
    "print(arr.ndim)"
   ]
  },
  {
   "cell_type": "code",
   "execution_count": 9,
   "id": "7256aa74-e952-4f77-87a0-b49028ac36b0",
   "metadata": {},
   "outputs": [
    {
     "name": "stdout",
     "output_type": "stream",
     "text": [
      "[[[[[[[[[[1 2 3 4]]]]]]]]]]\n",
      "10\n"
     ]
    }
   ],
   "source": [
    "# n dimension array\n",
    "arr = np.array([1,2,3,4], ndmin = 10)\n",
    "print (arr)\n",
    "print (arr.ndim)"
   ]
  },
  {
   "cell_type": "code",
   "execution_count": 28,
   "id": "a13fa42a-8e57-4bcd-b7d5-c22e3d9946df",
   "metadata": {},
   "outputs": [
    {
     "name": "stdout",
     "output_type": "stream",
     "text": [
      "[0. 0. 0. 0.]\n",
      "[[0. 0. 0. 0.]\n",
      " [0. 0. 0. 0.]\n",
      " [0. 0. 0. 0.]]\n"
     ]
    }
   ],
   "source": [
    "# to fill array elements with zero\n",
    "ar_zero = np.zeros(4)\n",
    "\n",
    "print(ar_zero)\n",
    "\n",
    "# to create one or two dimensional array with zeros\n",
    "arr = np.zeros((3,4))\n",
    "\n",
    "print(arr)"
   ]
  },
  {
   "cell_type": "code",
   "execution_count": 4,
   "id": "97248523-8153-4854-8a40-c80fd4353270",
   "metadata": {},
   "outputs": [
    {
     "name": "stdout",
     "output_type": "stream",
     "text": [
      "[1. 1. 1. 1.]\n",
      "[[1. 1. 1. 1.]\n",
      " [1. 1. 1. 1.]\n",
      " [1. 1. 1. 1.]]\n"
     ]
    }
   ],
   "source": [
    "# to fill array elements with ones\n",
    "\n",
    "arr_one = np.ones(4)\n",
    "print (arr_one)\n",
    "# two dimensional array of ones\n",
    "arr = np.ones((3,4))\n",
    "print (arr)"
   ]
  },
  {
   "cell_type": "code",
   "execution_count": 14,
   "id": "e6b4f634-8f4b-423a-88d9-b0d1f3b7a5e0",
   "metadata": {},
   "outputs": [
    {
     "name": "stdout",
     "output_type": "stream",
     "text": [
      "[1. 1. 1. 1.]\n"
     ]
    }
   ],
   "source": [
    "#empty array\n",
    "\n",
    "arr = np.empty(4)\n",
    "print(arr)"
   ]
  },
  {
   "cell_type": "code",
   "execution_count": 15,
   "id": "969a2e00-c773-4d8f-ab0f-b42d8320508f",
   "metadata": {},
   "outputs": [
    {
     "name": "stdout",
     "output_type": "stream",
     "text": [
      "[0 1 2 3]\n"
     ]
    }
   ],
   "source": [
    "#Range\n",
    "arr = np.arange(4)\n",
    "print (arr)"
   ]
  },
  {
   "cell_type": "code",
   "execution_count": 16,
   "id": "fab9937a-5c3d-4d31-a3fa-b9dbb8be0f89",
   "metadata": {},
   "outputs": [
    {
     "name": "stdout",
     "output_type": "stream",
     "text": [
      "[[1. 0. 0.]\n",
      " [0. 1. 0.]\n",
      " [0. 0. 1.]]\n"
     ]
    }
   ],
   "source": [
    "#Identity array\n",
    "\n",
    "arr = np.eye(3)\n",
    "print(arr)"
   ]
  },
  {
   "cell_type": "code",
   "execution_count": 38,
   "id": "cf28ebe5-95dd-4541-8313-504605010ca3",
   "metadata": {},
   "outputs": [
    {
     "name": "stdout",
     "output_type": "stream",
     "text": [
      "[[1. 0. 0. 0. 0.]\n",
      " [0. 1. 0. 0. 0.]\n",
      " [0. 0. 1. 0. 0.]]\n"
     ]
    }
   ],
   "source": [
    "arr = np.eye(3,5)\n",
    "print(arr)"
   ]
  },
  {
   "cell_type": "code",
   "execution_count": 12,
   "id": "d2d62059-0154-47ae-8bbe-e7ac1a71a9a9",
   "metadata": {},
   "outputs": [
    {
     "name": "stdout",
     "output_type": "stream",
     "text": [
      "[ 6.  7.  8.  9. 10.]\n"
     ]
    }
   ],
   "source": [
    "# how to print an array with space interval\n",
    "#linspace(start,stop,num,endpoint=true,retstep=false,dtype=none,axis=0)\n",
    "arr = np.linspace(6,10,num=5,endpoint=True,retstep=False,dtype=None,axis=0)\n",
    "print(arr)"
   ]
  },
  {
   "cell_type": "markdown",
   "id": "403a7a16-65ca-477e-8252-eb0549104ed0",
   "metadata": {},
   "source": [
    "Numpy with Random numbers"
   ]
  },
  {
   "cell_type": "code",
   "execution_count": 37,
   "id": "acf8be95-0711-432e-8e28-e5943bebd5a2",
   "metadata": {},
   "outputs": [
    {
     "name": "stdout",
     "output_type": "stream",
     "text": [
      "[0.28907189 0.74423051 0.73752164 0.79517577]\n"
     ]
    }
   ],
   "source": [
    "#Rand() returns random values between zero and 1\n",
    "\n",
    "var = np.random.rand(4)\n",
    "print (var)"
   ]
  },
  {
   "cell_type": "code",
   "execution_count": 31,
   "id": "6e0dbd83-37b3-49cf-8172-b6472c8d2e41",
   "metadata": {},
   "outputs": [
    {
     "name": "stdout",
     "output_type": "stream",
     "text": [
      "[[0.3331108  0.41419643 0.75762801 0.24594282 0.75662548]\n",
      " [0.04003186 0.91986687 0.97581105 0.6806743  0.39117386]]\n"
     ]
    }
   ],
   "source": [
    "#2 dimensional random array\n",
    "var = np.random.rand(2,5)\n",
    "print(var)"
   ]
  },
  {
   "cell_type": "code",
   "execution_count": 32,
   "id": "8d513e29-aebe-44e6-bef4-3f4208d08ac8",
   "metadata": {},
   "outputs": [
    {
     "name": "stdout",
     "output_type": "stream",
     "text": [
      "[-0.54297553 -0.53347812  0.78052881 -0.59144652  0.04478204]\n"
     ]
    }
   ],
   "source": [
    "#Randn Function (this may return positive or negative values between zero and 1)\n",
    "\n",
    "var = np.random.randn(5)\n",
    "print(var)"
   ]
  },
  {
   "cell_type": "code",
   "execution_count": 36,
   "id": "38dd9b6d-c8b9-449f-a0e3-c4a057b1ecd5",
   "metadata": {},
   "outputs": [
    {
     "name": "stdout",
     "output_type": "stream",
     "text": [
      "[0.64129747 0.3819527  0.03695045 0.16769215]\n"
     ]
    }
   ],
   "source": [
    "#randf (returs array of specified shape and fills with random floats values between zero and 1)\n",
    "\n",
    "var = np.random.ranf(4)\n",
    "print(var)"
   ]
  },
  {
   "cell_type": "code",
   "execution_count": 35,
   "id": "99edb2c5-8bdb-478a-a1cb-18e5a864deee",
   "metadata": {},
   "outputs": [
    {
     "name": "stdout",
     "output_type": "stream",
     "text": [
      "[ 5 13 10 17 10]\n"
     ]
    }
   ],
   "source": [
    "#randint (gives random values in given range)\n",
    "#np.random.randint(min,max,totalValus)\n",
    "\n",
    "var = np.random.randint(5,20,5)\n",
    "print(var)"
   ]
  },
  {
   "cell_type": "markdown",
   "id": "f13e07ec-8a0c-4679-8d06-f5f592edb996",
   "metadata": {},
   "source": [
    "DataType"
   ]
  },
  {
   "cell_type": "code",
   "execution_count": 39,
   "id": "c6863756-f876-46ea-8471-335451d01925",
   "metadata": {},
   "outputs": [
    {
     "name": "stdout",
     "output_type": "stream",
     "text": [
      "Data Type:  int32\n"
     ]
    }
   ],
   "source": [
    "# gives data type of the given array\n",
    "\n",
    "var = np.array([1,2,3,4])\n",
    "print(\"Data Type: \", var.dtype)"
   ]
  },
  {
   "cell_type": "code",
   "execution_count": 41,
   "id": "15a7817c-6139-41b1-84a9-ee8568f1cc6f",
   "metadata": {},
   "outputs": [
    {
     "name": "stdout",
     "output_type": "stream",
     "text": [
      "Data Type:  int8\n"
     ]
    }
   ],
   "source": [
    "# convert one data type to another\n",
    "\n",
    "var = np.array([1,2,3,4], dtype = np.int8) # this will change the data type to the initialize data type\n",
    "print(\"Data Type: \",var.dtype)"
   ]
  },
  {
   "cell_type": "code",
   "execution_count": 42,
   "id": "4ce53b24-629e-4360-a6d1-31901cf4bc07",
   "metadata": {},
   "outputs": [
    {
     "name": "stdout",
     "output_type": "stream",
     "text": [
      "Data Type:  float32\n",
      "[1. 2. 3. 4.]\n"
     ]
    }
   ],
   "source": [
    "# convert one data type to another\n",
    "\n",
    "var = np.array([1,2,3,4], dtype = \"f\") \n",
    "print(\"Data Type: \",var.dtype)\n",
    "print (var)"
   ]
  },
  {
   "cell_type": "code",
   "execution_count": 44,
   "id": "1067db4e-48a3-4523-957d-42b50542d300",
   "metadata": {},
   "outputs": [
    {
     "name": "stdout",
     "output_type": "stream",
     "text": [
      "Data Type:  int32\n",
      "Data Type:  float32\n",
      "[1 2 3 4]\n",
      "[1. 2. 3. 4.]\n"
     ]
    }
   ],
   "source": [
    "var = np.array([1,2,3,4]) \n",
    "\n",
    "vaarr = np.float32(var)\n",
    "\n",
    "print(\"Data Type: \",var.dtype)\n",
    "print(\"Data Type: \",vaarr.dtype)\n",
    "print (var)\n",
    "print (vaarr)"
   ]
  },
  {
   "cell_type": "code",
   "execution_count": 45,
   "id": "29eb16ee-f507-463f-b03f-77b00d53b593",
   "metadata": {},
   "outputs": [
    {
     "name": "stdout",
     "output_type": "stream",
     "text": [
      "Data Type:  int32\n",
      "Data Type:  float32\n",
      "Data Type:  int32\n",
      "[1 2 3 4]\n",
      "[1. 2. 3. 4.]\n",
      "[1 2 3 4]\n"
     ]
    }
   ],
   "source": [
    "# converting one data type to other and then converting new data type to the previous one\n",
    "\n",
    "var = np.array([1,2,3,4]) \n",
    "\n",
    "vaarr = np.float32(var)\n",
    "\n",
    "vaaarrr = np.int_(vaarr)\n",
    "\n",
    "print(\"Data Type: \",var.dtype)\n",
    "print(\"Data Type: \",vaarr.dtype)\n",
    "print(\"Data Type: \",vaaarrr.dtype)\n",
    "print (var)\n",
    "print (vaarr)\n",
    "print (vaaarrr)"
   ]
  },
  {
   "cell_type": "code",
   "execution_count": 47,
   "id": "51bbb0d5-2d91-474f-93c7-56461fb093fa",
   "metadata": {},
   "outputs": [
    {
     "name": "stdout",
     "output_type": "stream",
     "text": [
      "[1 2 3 4]\n",
      "[1. 2. 3. 4.]\n"
     ]
    }
   ],
   "source": [
    "var = np.array([1,2,3,4])\n",
    "vaarr= var.astype(float)\n",
    "print (var)\n",
    "print (vaarr)"
   ]
  },
  {
   "cell_type": "markdown",
   "id": "41bc9f10-ee05-447a-9de5-49cba4f39bad",
   "metadata": {},
   "source": [
    "Arithmetic operations in numpy array"
   ]
  },
  {
   "cell_type": "code",
   "execution_count": 55,
   "id": "a16faadf-b9b8-4c49-af28-b584cbc1348d",
   "metadata": {},
   "outputs": [
    {
     "name": "stdout",
     "output_type": "stream",
     "text": [
      "[4 5 6 7]\n"
     ]
    }
   ],
   "source": [
    "#addition\n",
    "var = np.array([1,2,3,4])\n",
    "varr = var + 3\n",
    "print(varr)"
   ]
  },
  {
   "cell_type": "code",
   "execution_count": 49,
   "id": "eb7614da-fd82-44f1-862f-642e31fe07a0",
   "metadata": {},
   "outputs": [
    {
     "name": "stdout",
     "output_type": "stream",
     "text": [
      "[2 4 6 8]\n"
     ]
    }
   ],
   "source": [
    "\n",
    "var1 = np.array([1,2,3,4])\n",
    "var2 = np.array([1,2,3,4])\n",
    "varr = var1 + var2\n",
    "print(varr)"
   ]
  },
  {
   "cell_type": "code",
   "execution_count": 56,
   "id": "65c4a5d1-0953-4ad8-bce8-14c1e0cb2029",
   "metadata": {},
   "outputs": [
    {
     "name": "stdout",
     "output_type": "stream",
     "text": [
      "[-2 -1  0  1]\n"
     ]
    }
   ],
   "source": [
    "#subtraction\n",
    "var = np.array([1,2,3,4])\n",
    "varr = var - 3\n",
    "print(varr)"
   ]
  },
  {
   "cell_type": "code",
   "execution_count": 57,
   "id": "0d5ca534-93a2-4645-a68c-c0aef010f733",
   "metadata": {},
   "outputs": [
    {
     "name": "stdout",
     "output_type": "stream",
     "text": [
      "[ 3  6  9 12]\n"
     ]
    }
   ],
   "source": [
    "#multiplication\n",
    "var = np.array([1,2,3,4])\n",
    "varr = var * 3\n",
    "print(varr)"
   ]
  },
  {
   "cell_type": "code",
   "execution_count": 58,
   "id": "0955cf2c-acb1-4ac3-8422-4c1741ba41bf",
   "metadata": {},
   "outputs": [
    {
     "name": "stdout",
     "output_type": "stream",
     "text": [
      "[0.33333333 0.66666667 1.         1.33333333]\n"
     ]
    }
   ],
   "source": [
    "#divide\n",
    "var = np.array([1,2,3,4])\n",
    "varr = var / 3\n",
    "print(varr)"
   ]
  },
  {
   "cell_type": "code",
   "execution_count": 62,
   "id": "7df13516-635a-4b87-9258-4b2a55287744",
   "metadata": {},
   "outputs": [
    {
     "name": "stdout",
     "output_type": "stream",
     "text": [
      "[1 2 0 1]\n",
      "[1 0 0 0]\n"
     ]
    }
   ],
   "source": [
    "#modulus\n",
    "var = np.array([1,2,3,4])\n",
    "varr = var % 3\n",
    "print(varr)\n",
    "\n",
    "#reciprocal\n",
    "\n",
    "var = np.array([1,2,3,4])\n",
    "varr = np.reciprocal(var)\n",
    "print(varr)"
   ]
  },
  {
   "cell_type": "markdown",
   "id": "0efe3beb-4f97-4785-a282-767a419788ba",
   "metadata": {},
   "source": [
    "Arithmetic operations for 2D array"
   ]
  },
  {
   "cell_type": "code",
   "execution_count": 60,
   "id": "92fe85a3-be0f-4ca6-97c9-1fac5f0ca4c2",
   "metadata": {},
   "outputs": [
    {
     "name": "stdout",
     "output_type": "stream",
     "text": [
      "[[2 4 6 8]\n",
      " [2 4 6 8]]\n"
     ]
    }
   ],
   "source": [
    "var1 = np.array([[1,2,3,4],[1,2,3,4]])\n",
    "var2 = np.array([[1,2,3,4],[1,2,3,4]])\n",
    "varr = var1 + var2\n",
    "print(varr)"
   ]
  },
  {
   "cell_type": "markdown",
   "id": "6b2c6b3c-1f89-4ac6-b697-fc7e13ba3ca4",
   "metadata": {},
   "source": [
    "Arithmeric Functions"
   ]
  },
  {
   "cell_type": "code",
   "execution_count": 16,
   "id": "17bfa27e-55b6-41e1-8100-3b6aa1374d7e",
   "metadata": {},
   "outputs": [
    {
     "name": "stdout",
     "output_type": "stream",
     "text": [
      "min :  1 0\n",
      "min :  5 4\n",
      "sqrt :  [1.         1.41421356 1.73205081 2.         2.23606798]\n"
     ]
    }
   ],
   "source": [
    "var = np.array ([1,2,3,4,5])\n",
    "\n",
    "print (\"min : \", np.min(var), np.argmin(var))\n",
    "print (\"min : \", np.max(var), np.argmax(var))\n",
    "print (\"sqrt : \", np.sqrt(var))"
   ]
  },
  {
   "cell_type": "code",
   "execution_count": 14,
   "id": "f6f0ca9f-f703-4427-9140-5e18ef043220",
   "metadata": {},
   "outputs": [
    {
     "name": "stdout",
     "output_type": "stream",
     "text": [
      "[2 1 3]\n"
     ]
    }
   ],
   "source": [
    "var = np.array([[2,1,3],[8,5,6]])\n",
    "\n",
    "#axis 0 for column , 1 for row, extraxt the min or max along column or row\n",
    "print(np.min(var,axis=0))"
   ]
  },
  {
   "cell_type": "code",
   "execution_count": 17,
   "id": "c9ef1344-8022-45ec-ba45-b1ac5041df25",
   "metadata": {},
   "outputs": [
    {
     "name": "stdout",
     "output_type": "stream",
     "text": [
      "[-0.2794155  -0.7568025   0.6569866   0.98935825]\n",
      "[ 0.96017029 -0.65364362  0.75390225 -0.14550003]\n",
      "[ 6 10 17 25]\n"
     ]
    }
   ],
   "source": [
    "var = np.array([6,4,7,8])\n",
    "\n",
    "print(np.sin(var))\n",
    "print(np.cos(var))\n",
    "print(np.cumsum(var))"
   ]
  },
  {
   "cell_type": "markdown",
   "id": "d7cdd645-01d2-4cb9-b280-f93c787520e5",
   "metadata": {},
   "source": [
    "Numpy Array Shape and reshape"
   ]
  },
  {
   "cell_type": "code",
   "execution_count": 18,
   "id": "adf55ecb-e2b9-470b-93bf-fbc91fbe424c",
   "metadata": {},
   "outputs": [
    {
     "name": "stdout",
     "output_type": "stream",
     "text": [
      "[[1 2]\n",
      " [1 2]]\n",
      "(2, 2)\n"
     ]
    }
   ],
   "source": [
    "var = np.array([[1,2],[1,2]])\n",
    "\n",
    "print(var)\n",
    "print(var.shape)"
   ]
  },
  {
   "cell_type": "code",
   "execution_count": 20,
   "id": "46332966-6139-49b7-a8a8-920395496ee9",
   "metadata": {},
   "outputs": [
    {
     "name": "stdout",
     "output_type": "stream",
     "text": [
      "[[[[2 3 5 8]]]]\n",
      "4\n",
      "(1, 1, 1, 4)\n"
     ]
    }
   ],
   "source": [
    "#multidimensional Array\n",
    "\n",
    "var = np.array([2,3,5,8], ndmin=4)\n",
    "\n",
    "print(var)\n",
    "print(var.ndim)\n",
    "print(var.shape)"
   ]
  },
  {
   "cell_type": "code",
   "execution_count": 25,
   "id": "bec89554-fe24-4f9b-8dc9-29016b7e4bab",
   "metadata": {},
   "outputs": [
    {
     "name": "stdout",
     "output_type": "stream",
     "text": [
      "[1 2 3 4 5 6 9 6 4]\n",
      "1\n",
      "[[1 2 3]\n",
      " [4 5 6]\n",
      " [9 6 4]]\n",
      "2\n"
     ]
    }
   ],
   "source": [
    "#to convert one dim array in multidimensional array and to convert multidimensional array to one dim\n",
    "#reshape function\n",
    "\n",
    "var = np.array([1,2,3,4,5,6,9,6,4])\n",
    "print(var)\n",
    "print(var.ndim)\n",
    "\n",
    "x = var.reshape(3,3)\n",
    "print(x)\n",
    "print(x.ndim)"
   ]
  },
  {
   "cell_type": "code",
   "execution_count": 39,
   "id": "3ccc9de3-b77c-4123-96c6-e5f6e80e83c2",
   "metadata": {},
   "outputs": [
    {
     "name": "stdout",
     "output_type": "stream",
     "text": [
      "[ 1  2  3  4  5  6  7  8  9 10 11 12]\n",
      "1\n",
      "[[[ 1  2  3  4]\n",
      "  [ 5  6  7  8]\n",
      "  [ 9 10 11 12]]]\n",
      "3\n"
     ]
    }
   ],
   "source": [
    "#converting one dimensional array into 3 dimensional\n",
    "var = np.array([1,2,3,4,5,6,7,8,9,10,11,12])\n",
    "print(var)\n",
    "print(var.ndim)\n",
    "\n",
    "x = var.reshape(1,3,4)\n",
    "print(x)\n",
    "print(x.ndim)"
   ]
  },
  {
   "cell_type": "code",
   "execution_count": 42,
   "id": "46e03bb6-8b3b-4733-940b-78e48d669634",
   "metadata": {},
   "outputs": [
    {
     "name": "stdout",
     "output_type": "stream",
     "text": [
      "[ 1  2  3  4  5  6  7  8  9 10 11 12]\n",
      "1\n",
      "[[[ 1  2  3  4]\n",
      "  [ 5  6  7  8]\n",
      "  [ 9 10 11 12]]]\n",
      "3\n",
      "[ 1  2  3  4  5  6  7  8  9 10 11 12]\n",
      "1\n"
     ]
    }
   ],
   "source": [
    "#3 or two dimensional to one dim\n",
    "\n",
    "var = np.array([1,2,3,4,5,6,7,8,9,10,11,12])\n",
    "print(var)\n",
    "print(var.ndim)\n",
    "\n",
    "x = var.reshape(1,3,4)\n",
    "print(x)\n",
    "print(x.ndim)\n",
    "\n",
    "one=x.reshape(-1)\n",
    "print(one)\n",
    "print(one.ndim)"
   ]
  },
  {
   "cell_type": "markdown",
   "id": "0bdd1fe9-80b6-4ceb-b581-8b041691aab1",
   "metadata": {},
   "source": [
    "Broadcasting in numpy"
   ]
  },
  {
   "cell_type": "code",
   "execution_count": 49,
   "id": "cba24a3b-b512-4c35-b4a5-51419a7cbda0",
   "metadata": {},
   "outputs": [
    {
     "name": "stdout",
     "output_type": "stream",
     "text": [
      "(3,)\n",
      "[4 6 3]\n",
      "(3, 1)\n",
      "[[9]\n",
      " [5]\n",
      " [7]]\n",
      "[[13 15 12]\n",
      " [ 9 11  8]\n",
      " [11 13 10]]\n"
     ]
    }
   ],
   "source": [
    "var1 = np.array([4,6,3])\n",
    "print(var1.shape)\n",
    "print(var1)\n",
    "\n",
    "var2 = np.array([[9],[5],[7]])\n",
    "print(var2.shape)\n",
    "print(var2)\n",
    "\n",
    "print(var1+var2)"
   ]
  },
  {
   "cell_type": "code",
   "execution_count": 52,
   "id": "415d6c47-46c6-43e6-87c8-dde8d6457d50",
   "metadata": {},
   "outputs": [
    {
     "name": "stdout",
     "output_type": "stream",
     "text": [
      "(2, 1)\n",
      "(2, 3)\n",
      "[[ 2  3  4]\n",
      " [ 4 10 11]]\n"
     ]
    }
   ],
   "source": [
    "x = np.array([[1],[2]])\n",
    "print(x.shape)\n",
    "\n",
    "y = np.array([[1,2,3],[2,8,9]])\n",
    "print(y.shape)\n",
    "\n",
    "print(x+y)"
   ]
  },
  {
   "cell_type": "markdown",
   "id": "f6b24175-7451-469b-a784-ed5582286302",
   "metadata": {},
   "source": [
    "INDEXING"
   ]
  },
  {
   "cell_type": "code",
   "execution_count": 55,
   "id": "13f07c4a-5b38-426c-9d73-62f2c70a8080",
   "metadata": {},
   "outputs": [
    {
     "name": "stdout",
     "output_type": "stream",
     "text": [
      "8\n",
      "9\n"
     ]
    }
   ],
   "source": [
    "#one dimensional\n",
    "var = np.array([9,8,7,6])\n",
    "#               0,1,2,3\n",
    "#              -4,-3,-2.-1\n",
    "print(var[1])\n",
    "print(var[-4])"
   ]
  },
  {
   "cell_type": "code",
   "execution_count": 58,
   "id": "24e4c3ce-9371-48ae-8d82-67a5d7bcc351",
   "metadata": {},
   "outputs": [
    {
     "name": "stdout",
     "output_type": "stream",
     "text": [
      "4\n"
     ]
    }
   ],
   "source": [
    "#two dimensional\n",
    "var = np.array([[9,5,6,3],[7,3,4,8]])\n",
    "\n",
    "print(var[1,2])"
   ]
  },
  {
   "cell_type": "code",
   "execution_count": 65,
   "id": "f2e7124c-23ba-4b54-ab0d-a1e61f7732b0",
   "metadata": {},
   "outputs": [
    {
     "name": "stdout",
     "output_type": "stream",
     "text": [
      "3\n"
     ]
    }
   ],
   "source": [
    "#three dimensional\n",
    "\n",
    "var = np.array([[[9,5,6,3],[8,3,5,7],[7,3,4,8]]])\n",
    "\n",
    "print(var[0,1,1])"
   ]
  },
  {
   "cell_type": "markdown",
   "id": "fd11e24e-7cb3-4a3a-892e-7aa96decc5f2",
   "metadata": {},
   "source": [
    "Slicing"
   ]
  },
  {
   "cell_type": "code",
   "execution_count": 71,
   "id": "56202f3d-2b9c-4116-926c-1fdbf3b13cb1",
   "metadata": {},
   "outputs": [
    {
     "name": "stdout",
     "output_type": "stream",
     "text": [
      "[1 2 3 4 5 6 7]\n",
      "2 to 5:  [2 3 4 5]\n",
      "2 to end:  [2 3 4 5 6 7]\n",
      "start to 5 : [1 2 3 4 5]\n",
      "stop : [1 3 5 7]\n",
      "stop : [2 4]\n"
     ]
    }
   ],
   "source": [
    "#to get the particular dataset\n",
    "\n",
    "var = np.array([1,2,3,4,5,6,7])\n",
    "#               0,1,2,3,4,5,6\n",
    "print(var)\n",
    "\n",
    "print(\"2 to 5: \", var[1:5])\n",
    "print(\"2 to end: \", var[1:])\n",
    "print(\"start to 5 :\", var[:5])\n",
    "print(\"stop :\", var[::2]) #start to end point but by jumping\n",
    "print(\"stop :\", var[1:5:2]) #start to end point but by jumping"
   ]
  },
  {
   "cell_type": "code",
   "execution_count": 74,
   "id": "29194400-f1fb-48ef-9787-e36f02e341c3",
   "metadata": {},
   "outputs": [
    {
     "name": "stdout",
     "output_type": "stream",
     "text": [
      "8 :  [3 4 8 6]\n"
     ]
    }
   ],
   "source": [
    "#2 dimentional\n",
    "var = np.array([[9,5,6,3,8],[8,3,5,7,2],[7,3,4,8,6]])\n",
    "\n",
    "print(\"8 : \", var[2,1:])"
   ]
  },
  {
   "cell_type": "code",
   "execution_count": 81,
   "id": "e2e2ebe7-4d6c-4c94-aa8c-6654658807cd",
   "metadata": {},
   "outputs": [
    {
     "name": "stdout",
     "output_type": "stream",
     "text": [
      "[3 5 7]\n"
     ]
    }
   ],
   "source": [
    "#3 dimensional\n",
    "\n",
    "var = np.array([[[9,5,6,3],[8,3,5,7],[7,3,4,8]]])\n",
    "\n",
    "print(var[0,1,1:])"
   ]
  },
  {
   "cell_type": "code",
   "execution_count": null,
   "id": "d9321e2d-8e65-42c9-be10-c2ecb670aed1",
   "metadata": {},
   "outputs": [],
   "source": []
  }
 ],
 "metadata": {
  "kernelspec": {
   "display_name": "Python 3 (ipykernel)",
   "language": "python",
   "name": "python3"
  },
  "language_info": {
   "codemirror_mode": {
    "name": "ipython",
    "version": 3
   },
   "file_extension": ".py",
   "mimetype": "text/x-python",
   "name": "python",
   "nbconvert_exporter": "python",
   "pygments_lexer": "ipython3",
   "version": "3.11.4"
  }
 },
 "nbformat": 4,
 "nbformat_minor": 5
}
